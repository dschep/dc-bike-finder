{
 "cells": [
  {
   "cell_type": "code",
   "execution_count": 1,
   "metadata": {},
   "outputs": [],
   "source": [
    "!pip install records boto3 psycopg2-binary &> /dev/null"
   ]
  },
  {
   "cell_type": "code",
   "execution_count": 2,
   "metadata": {},
   "outputs": [],
   "source": [
    "import boto3\n",
    "import records\n",
    "from matplotlib import style\n",
    "\n",
    "style.use('ggplot')"
   ]
  },
  {
   "cell_type": "code",
   "execution_count": 3,
   "metadata": {},
   "outputs": [],
   "source": [
    "db_url = boto3.client('ssm').get_parameter(Name='/bikefinder/dev/db_url', WithDecryption=True)['Parameter']['Value']\n",
    "db = records.Database(db_url)"
   ]
  },
  {
   "cell_type": "code",
   "execution_count": 4,
   "metadata": {},
   "outputs": [],
   "source": [
    "# number of bikes in operaton per day per provider\n",
    "bikes_in_service = db.query(\n",
    "    \"\"\"\n",
    "    ( -- number of unique bike_ids per provider (except ofo)\n",
    "      select created::date, provider, count(distinct bike_id) num_bikes\n",
    "      from bike_locations\n",
    "      where provider<>'ofo'\n",
    "      group by provider, created::date\n",
    "    )\n",
    "    union\n",
    "    ( -- max number of ofo bikes available through out the day\n",
    "      with ofo as (select * from bike_locations where provider='ofo'),\n",
    "        counts_per_batch as (select count(bike_id), bike_id, created::date from ofo\n",
    "                             group by bike_id, created::date)\n",
    "      select created, 'ofo' provider, max(\"count\") num_bikes\n",
    "      from counts_per_batch\n",
    "      group by created\n",
    "    )\n",
    "    order by created, provider;\n",
    "    \"\"\").export('df')\n",
    "bikes_in_service = bikes_in_service.pivot(index='created', columns='provider', values='num_bikes')"
   ]
  },
  {
   "cell_type": "code",
   "execution_count": 5,
   "metadata": {},
   "outputs": [
    {
     "data": {
      "text/html": [
       "<div>\n",
       "<table border=\"1\" class=\"dataframe\">\n",
       "  <thead>\n",
       "    <tr style=\"text-align: right;\">\n",
       "      <th>provider</th>\n",
       "      <th>JUMP</th>\n",
       "      <th>limebike</th>\n",
       "      <th>mobike</th>\n",
       "      <th>ofo</th>\n",
       "      <th>spin</th>\n",
       "    </tr>\n",
       "    <tr>\n",
       "      <th>created</th>\n",
       "      <th></th>\n",
       "      <th></th>\n",
       "      <th></th>\n",
       "      <th></th>\n",
       "      <th></th>\n",
       "    </tr>\n",
       "  </thead>\n",
       "  <tbody>\n",
       "    <tr>\n",
       "      <th>2018-02-18</th>\n",
       "      <td>54</td>\n",
       "      <td>370</td>\n",
       "      <td>464</td>\n",
       "      <td>338</td>\n",
       "      <td>163</td>\n",
       "    </tr>\n",
       "    <tr>\n",
       "      <th>2018-02-19</th>\n",
       "      <td>53</td>\n",
       "      <td>374</td>\n",
       "      <td>462</td>\n",
       "      <td>337</td>\n",
       "      <td>172</td>\n",
       "    </tr>\n",
       "  </tbody>\n",
       "</table>\n",
       "</div>"
      ],
      "text/plain": [
       "provider    JUMP  limebike  mobike  ofo  spin\n",
       "created                                      \n",
       "2018-02-18    54       370     464  338   163\n",
       "2018-02-19    53       374     462  337   172"
      ]
     },
     "execution_count": 5,
     "metadata": {},
     "output_type": "execute_result"
    }
   ],
   "source": [
    "bikes_in_service"
   ]
  },
  {
   "cell_type": "code",
   "execution_count": 9,
   "metadata": {},
   "outputs": [
    {
     "data": {
      "text/plain": [
       "<matplotlib.axes._subplots.AxesSubplot at 0x7feebb7fd400>"
      ]
     },
     "execution_count": 9,
     "metadata": {},
     "output_type": "execute_result"
    },
    {
     "data": {
      "image/png": "[encoded data removed]",
      "text/plain": [
       "<matplotlib.figure.Figure at 0x7feec04e29e8>"
      ]
     },
     "metadata": {},
     "output_type": "display_data"
    }
   ],
   "source": [
    "bikes_in_service.plot()"
   ]
  },
  {
   "cell_type": "code",
   "execution_count": 7,
   "metadata": {},
   "outputs": [
    {
     "data": {
      "text/html": [
       "<div>\n",
       "<table border=\"1\" class=\"dataframe\">\n",
       "  <thead>\n",
       "    <tr style=\"text-align: right;\">\n",
       "      <th></th>\n",
       "      <th>provider</th>\n",
       "      <th>min</th>\n",
       "      <th>avg</th>\n",
       "      <th>max</th>\n",
       "    </tr>\n",
       "  </thead>\n",
       "  <tbody>\n",
       "    <tr>\n",
       "      <th>0</th>\n",
       "      <td>JUMP</td>\n",
       "      <td>00:00:00</td>\n",
       "      <td>14:43:04.849764</td>\n",
       "      <td>18:09:58.092010</td>\n",
       "    </tr>\n",
       "    <tr>\n",
       "      <th>1</th>\n",
       "      <td>mobike</td>\n",
       "      <td>00:50:00.800669</td>\n",
       "      <td>17:41:33.868599</td>\n",
       "      <td>18:10:06.669904</td>\n",
       "    </tr>\n",
       "    <tr>\n",
       "      <th>2</th>\n",
       "      <td>spin</td>\n",
       "      <td>00:10:00.022413</td>\n",
       "      <td>16:40:12.930222</td>\n",
       "      <td>18:10:00.333060</td>\n",
       "    </tr>\n",
       "    <tr>\n",
       "      <th>3</th>\n",
       "      <td>limebike</td>\n",
       "      <td>00:50:01.488646</td>\n",
       "      <td>17:22:31.915873</td>\n",
       "      <td>18:10:01.017795</td>\n",
       "    </tr>\n",
       "  </tbody>\n",
       "</table>\n",
       "</div>"
      ],
      "text/plain": [
       "   provider             min             avg             max\n",
       "0      JUMP        00:00:00 14:43:04.849764 18:09:58.092010\n",
       "1    mobike 00:50:00.800669 17:41:33.868599 18:10:06.669904\n",
       "2      spin 00:10:00.022413 16:40:12.930222 18:10:00.333060\n",
       "3  limebike 00:50:01.488646 17:22:31.915873 18:10:01.017795"
      ]
     },
     "execution_count": 7,
     "metadata": {},
     "output_type": "execute_result"
    }
   ],
   "source": [
    "# min,avg,max lifetime of bikes per provider (except ofo, of course)\n",
    "db.query(\n",
    "    \"\"\"\n",
    "    with bike_lifetimes as (\n",
    "        select bike_id, provider, max(created) - min(created) age\n",
    "        from bike_locations\n",
    "        where provider<>'ofo'\n",
    "        group by bike_id, provider\n",
    "    )\n",
    "    select provider, min(age), avg(age), max(age)\n",
    "    from bike_lifetimes\n",
    "    group by provider;\n",
    "    \"\"\").export('df')"
   ]
  },
  {
   "cell_type": "code",
   "execution_count": 8,
   "metadata": {},
   "outputs": [],
   "source": [
    "db.close()\n",
    "db._engine.dispose()"
   ]
  }
 ],
 "metadata": {
  "kernelspec": {
   "display_name": "Python 3",
   "language": "python",
   "name": "python3"
  },
  "language_info": {
   "codemirror_mode": {
    "name": "ipython",
    "version": 3
   },
   "file_extension": ".py",
   "mimetype": "text/x-python",
   "name": "python",
   "nbconvert_exporter": "python",
   "pygments_lexer": "ipython3",
   "version": "3.6.3"
  }
 },
 "nbformat": 4,
 "nbformat_minor": 2
}
