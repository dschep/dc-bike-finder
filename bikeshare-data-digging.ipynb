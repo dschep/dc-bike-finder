{
 "cells": [
  {
   "cell_type": "code",
   "execution_count": 1,
   "metadata": {},
   "outputs": [],
   "source": [
    "!pip install records boto3 psycopg2-binary &> /dev/null"
   ]
  },
  {
   "cell_type": "code",
   "execution_count": 2,
   "metadata": {},
   "outputs": [],
   "source": [
    "import boto3\n",
    "import records"
   ]
  },
  {
   "cell_type": "code",
   "execution_count": 3,
   "metadata": {},
   "outputs": [],
   "source": [
    "db_url = boto3.client('ssm').get_parameter(Name='/bikefinder/dev/db_url', WithDecryption=True)['Parameter']['Value']\n",
    "db = records.Database(db_url)"
   ]
  },
  {
   "cell_type": "code",
   "execution_count": 4,
   "metadata": {},
   "outputs": [
    {
     "data": {
      "text/html": [
       "<div>\n",
       "<table border=\"1\" class=\"dataframe\">\n",
       "  <thead>\n",
       "    <tr style=\"text-align: right;\">\n",
       "      <th></th>\n",
       "      <th>created</th>\n",
       "      <th>provider</th>\n",
       "      <th>num_bikes</th>\n",
       "    </tr>\n",
       "  </thead>\n",
       "  <tbody>\n",
       "    <tr>\n",
       "      <th>0</th>\n",
       "      <td>2018-02-18</td>\n",
       "      <td>JUMP</td>\n",
       "      <td>54</td>\n",
       "    </tr>\n",
       "    <tr>\n",
       "      <th>1</th>\n",
       "      <td>2018-02-18</td>\n",
       "      <td>limebike</td>\n",
       "      <td>369</td>\n",
       "    </tr>\n",
       "    <tr>\n",
       "      <th>2</th>\n",
       "      <td>2018-02-18</td>\n",
       "      <td>mobike</td>\n",
       "      <td>464</td>\n",
       "    </tr>\n",
       "    <tr>\n",
       "      <th>3</th>\n",
       "      <td>2018-02-18</td>\n",
       "      <td>ofo</td>\n",
       "      <td>338</td>\n",
       "    </tr>\n",
       "    <tr>\n",
       "      <th>4</th>\n",
       "      <td>2018-02-18</td>\n",
       "      <td>spin</td>\n",
       "      <td>163</td>\n",
       "    </tr>\n",
       "  </tbody>\n",
       "</table>\n",
       "</div>"
      ],
      "text/plain": [
       "      created  provider  num_bikes\n",
       "0  2018-02-18      JUMP         54\n",
       "1  2018-02-18  limebike        369\n",
       "2  2018-02-18    mobike        464\n",
       "3  2018-02-18       ofo        338\n",
       "4  2018-02-18      spin        163"
      ]
     },
     "execution_count": 4,
     "metadata": {},
     "output_type": "execute_result"
    }
   ],
   "source": [
    "# number of bikes in operaton per day per provider\n",
    "db.query(\n",
    "    \"\"\"\n",
    "    ( -- number of unique bike_ids per provider (except ofo)\n",
    "      select created::date, provider, count(distinct bike_id) num_bikes\n",
    "      from bike_locations\n",
    "      where provider<>'ofo'\n",
    "      group by provider, created::date\n",
    "    )\n",
    "    union\n",
    "    ( -- max number of ofo bikes available through out the day\n",
    "      with ofo as (select * from bike_locations where provider='ofo'),\n",
    "        counts_per_batch as (select count(bike_id), bike_id, created::date from ofo\n",
    "                             group by bike_id, created::date)\n",
    "      select created, 'ofo' provider, max(\"count\") num_bikes\n",
    "      from counts_per_batch\n",
    "      group by created\n",
    "    )\n",
    "    order by created, provider;\n",
    "    \"\"\").export('df')"
   ]
  },
  {
   "cell_type": "code",
   "execution_count": 5,
   "metadata": {},
   "outputs": [
    {
     "data": {
      "text/html": [
       "<div>\n",
       "<table border=\"1\" class=\"dataframe\">\n",
       "  <thead>\n",
       "    <tr style=\"text-align: right;\">\n",
       "      <th></th>\n",
       "      <th>provider</th>\n",
       "      <th>min</th>\n",
       "      <th>avg</th>\n",
       "      <th>max</th>\n",
       "    </tr>\n",
       "  </thead>\n",
       "  <tbody>\n",
       "    <tr>\n",
       "      <th>0</th>\n",
       "      <td>JUMP</td>\n",
       "      <td>00:00:00</td>\n",
       "      <td>02:28:51.870150</td>\n",
       "      <td>02:59:57.963220</td>\n",
       "    </tr>\n",
       "    <tr>\n",
       "      <th>1</th>\n",
       "      <td>mobike</td>\n",
       "      <td>00:00:04.960375</td>\n",
       "      <td>02:55:09.998301</td>\n",
       "      <td>03:00:12.491747</td>\n",
       "    </tr>\n",
       "    <tr>\n",
       "      <th>2</th>\n",
       "      <td>spin</td>\n",
       "      <td>00:10:00.022413</td>\n",
       "      <td>02:53:27.413846</td>\n",
       "      <td>02:59:58.682459</td>\n",
       "    </tr>\n",
       "    <tr>\n",
       "      <th>3</th>\n",
       "      <td>limebike</td>\n",
       "      <td>00:00:00</td>\n",
       "      <td>02:56:33.432677</td>\n",
       "      <td>02:59:59.003446</td>\n",
       "    </tr>\n",
       "  </tbody>\n",
       "</table>\n",
       "</div>"
      ],
      "text/plain": [
       "   provider             min             avg             max\n",
       "0      JUMP        00:00:00 02:28:51.870150 02:59:57.963220\n",
       "1    mobike 00:00:04.960375 02:55:09.998301 03:00:12.491747\n",
       "2      spin 00:10:00.022413 02:53:27.413846 02:59:58.682459\n",
       "3  limebike        00:00:00 02:56:33.432677 02:59:59.003446"
      ]
     },
     "execution_count": 5,
     "metadata": {},
     "output_type": "execute_result"
    }
   ],
   "source": [
    "# min,avg,max lifetime of bikes per provider (except ofo, of course)\n",
    "db.query(\n",
    "    \"\"\"\n",
    "    with bike_lifetimes as (\n",
    "        select bike_id, provider, max(created) - min(created) age\n",
    "        from bike_locations\n",
    "        where provider<>'ofo'\n",
    "        group by bike_id, provider\n",
    "    )\n",
    "    select provider, min(age), avg(age), max(age)\n",
    "    from bike_lifetimes\n",
    "    group by provider;\n",
    "    \"\"\").export('df')"
   ]
  },
  {
   "cell_type": "code",
   "execution_count": 6,
   "metadata": {},
   "outputs": [],
   "source": [
    "db.close()\n",
    "db._engine.dispose()"
   ]
  }
 ],
 "metadata": {
  "kernelspec": {
   "display_name": "Python 3",
   "language": "python",
   "name": "python3"
  },
  "language_info": {
   "codemirror_mode": {
    "name": "ipython",
    "version": 3
   },
   "file_extension": ".py",
   "mimetype": "text/x-python",
   "name": "python",
   "nbconvert_exporter": "python",
   "pygments_lexer": "ipython3",
   "version": "3.6.3"
  }
 },
 "nbformat": 4,
 "nbformat_minor": 2
}
