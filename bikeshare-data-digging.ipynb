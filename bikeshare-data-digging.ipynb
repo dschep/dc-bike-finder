{
 "cells": [
  {
   "cell_type": "code",
   "execution_count": 1,
   "metadata": {},
   "outputs": [],
   "source": [
    "!pip install records boto3 psycopg2-binary &> /dev/null"
   ]
  },
  {
   "cell_type": "code",
   "execution_count": 2,
   "metadata": {},
   "outputs": [],
   "source": [
    "import boto3\n",
    "import records\n",
    "from matplotlib import style\n",
    "%matplotlib inline\n",
    "style.use('ggplot')"
   ]
  },
  {
   "cell_type": "code",
   "execution_count": 3,
   "metadata": {},
   "outputs": [],
   "source": [
    "db_url = boto3.client('ssm').get_parameter(Name='/bikefinder/dev/db_url', WithDecryption=True)['Parameter']['Value']\n",
    "db = records.Database(db_url)"
   ]
  },
  {
   "cell_type": "code",
   "execution_count": 4,
   "metadata": {},
   "outputs": [],
   "source": [
    "# number of bikes in operaton per day per provider\n",
    "bikes_in_service = db.query(\n",
    "    \"\"\"\n",
    "    ( -- number of unique bike_ids per provider (except ofo)\n",
    "      select created::date, provider, count(distinct bike_id) num_bikes\n",
    "      from bike_locations\n",
    "      where provider<>'ofo'\n",
    "      group by provider, created::date\n",
    "    )\n",
    "    union\n",
    "    ( -- max number of ofo bikes available through out the day\n",
    "      with ofo as (select * from bike_locations where provider='ofo'),\n",
    "        counts_per_batch as (select count(bike_id), bike_id, created::date from ofo\n",
    "                             group by bike_id, created::date)\n",
    "      select created, 'ofo' provider, max(\"count\") num_bikes\n",
    "      from counts_per_batch\n",
    "      group by created\n",
    "    )\n",
    "    order by created, provider;\n",
    "    \"\"\").export('df')\n",
    "bikes_in_service = bikes_in_service.pivot(index='created', columns='provider', values='num_bikes')"
   ]
  },
  {
   "cell_type": "code",
   "execution_count": 5,
   "metadata": {},
   "outputs": [
    {
     "data": {
      "text/html": [
       "<div>\n",
       "<table border=\"1\" class=\"dataframe\">\n",
       "  <thead>\n",
       "    <tr style=\"text-align: right;\">\n",
       "      <th>provider</th>\n",
       "      <th>JUMP</th>\n",
       "      <th>limebike</th>\n",
       "      <th>mobike</th>\n",
       "      <th>ofo</th>\n",
       "      <th>spin</th>\n",
       "    </tr>\n",
       "    <tr>\n",
       "      <th>created</th>\n",
       "      <th></th>\n",
       "      <th></th>\n",
       "      <th></th>\n",
       "      <th></th>\n",
       "      <th></th>\n",
       "    </tr>\n",
       "  </thead>\n",
       "  <tbody>\n",
       "    <tr>\n",
       "      <th>2018-02-18</th>\n",
       "      <td>54</td>\n",
       "      <td>370</td>\n",
       "      <td>464</td>\n",
       "      <td>338</td>\n",
       "      <td>163</td>\n",
       "    </tr>\n",
       "    <tr>\n",
       "      <th>2018-02-19</th>\n",
       "      <td>57</td>\n",
       "      <td>385</td>\n",
       "      <td>470</td>\n",
       "      <td>337</td>\n",
       "      <td>177</td>\n",
       "    </tr>\n",
       "    <tr>\n",
       "      <th>2018-02-20</th>\n",
       "      <td>68</td>\n",
       "      <td>391</td>\n",
       "      <td>463</td>\n",
       "      <td>330</td>\n",
       "      <td>185</td>\n",
       "    </tr>\n",
       "    <tr>\n",
       "      <th>2018-02-21</th>\n",
       "      <td>75</td>\n",
       "      <td>422</td>\n",
       "      <td>468</td>\n",
       "      <td>295</td>\n",
       "      <td>187</td>\n",
       "    </tr>\n",
       "    <tr>\n",
       "      <th>2018-02-22</th>\n",
       "      <td>190</td>\n",
       "      <td>409</td>\n",
       "      <td>461</td>\n",
       "      <td>350</td>\n",
       "      <td>197</td>\n",
       "    </tr>\n",
       "    <tr>\n",
       "      <th>2018-02-23</th>\n",
       "      <td>123</td>\n",
       "      <td>399</td>\n",
       "      <td>453</td>\n",
       "      <td>343</td>\n",
       "      <td>204</td>\n",
       "    </tr>\n",
       "    <tr>\n",
       "      <th>2018-02-24</th>\n",
       "      <td>69</td>\n",
       "      <td>398</td>\n",
       "      <td>451</td>\n",
       "      <td>323</td>\n",
       "      <td>189</td>\n",
       "    </tr>\n",
       "    <tr>\n",
       "      <th>2018-02-25</th>\n",
       "      <td>72</td>\n",
       "      <td>386</td>\n",
       "      <td>442</td>\n",
       "      <td>312</td>\n",
       "      <td>188</td>\n",
       "    </tr>\n",
       "    <tr>\n",
       "      <th>2018-02-26</th>\n",
       "      <td>84</td>\n",
       "      <td>402</td>\n",
       "      <td>439</td>\n",
       "      <td>337</td>\n",
       "      <td>186</td>\n",
       "    </tr>\n",
       "    <tr>\n",
       "      <th>2018-02-27</th>\n",
       "      <td>69</td>\n",
       "      <td>384</td>\n",
       "      <td>425</td>\n",
       "      <td>297</td>\n",
       "      <td>177</td>\n",
       "    </tr>\n",
       "  </tbody>\n",
       "</table>\n",
       "</div>"
      ],
      "text/plain": [
       "provider    JUMP  limebike  mobike  ofo  spin\n",
       "created                                      \n",
       "2018-02-18    54       370     464  338   163\n",
       "2018-02-19    57       385     470  337   177\n",
       "2018-02-20    68       391     463  330   185\n",
       "2018-02-21    75       422     468  295   187\n",
       "2018-02-22   190       409     461  350   197\n",
       "2018-02-23   123       399     453  343   204\n",
       "2018-02-24    69       398     451  323   189\n",
       "2018-02-25    72       386     442  312   188\n",
       "2018-02-26    84       402     439  337   186\n",
       "2018-02-27    69       384     425  297   177"
      ]
     },
     "execution_count": 5,
     "metadata": {},
     "output_type": "execute_result"
    }
   ],
   "source": [
    "bikes_in_service"
   ]
  },
  {
   "cell_type": "code",
   "execution_count": 6,
   "metadata": {},
   "outputs": [
    {
     "data": {
      "text/plain": [
       "<matplotlib.axes._subplots.AxesSubplot at 0x7fe911096358>"
      ]
     },
     "execution_count": 6,
     "metadata": {},
     "output_type": "execute_result"
    },
    {
     "data": {
      "image/png": "[encoded data removed]",
      "text/plain": [
       "<matplotlib.figure.Figure at 0x7fe940bae710>"
      ]
     },
     "metadata": {},
     "output_type": "display_data"
    }
   ],
   "source": [
    "bikes_in_service.plot()"
   ]
  },
  {
   "cell_type": "code",
   "execution_count": null,
   "metadata": {},
   "outputs": [],
   "source": []
  },
  {
   "cell_type": "code",
   "execution_count": 7,
   "metadata": {},
   "outputs": [
    {
     "data": {
      "text/html": [
       "<div>\n",
       "<table border=\"1\" class=\"dataframe\">\n",
       "  <thead>\n",
       "    <tr style=\"text-align: right;\">\n",
       "      <th></th>\n",
       "      <th>provider</th>\n",
       "      <th>min</th>\n",
       "      <th>avg</th>\n",
       "      <th>max</th>\n",
       "    </tr>\n",
       "  </thead>\n",
       "  <tbody>\n",
       "    <tr>\n",
       "      <th>0</th>\n",
       "      <td>JUMP</td>\n",
       "      <td>00:00:00</td>\n",
       "      <td>3 days 08:37:57.690847</td>\n",
       "      <td>8 days 15:59:58.377771</td>\n",
       "    </tr>\n",
       "    <tr>\n",
       "      <th>1</th>\n",
       "      <td>mobike</td>\n",
       "      <td>00:00:06.609335</td>\n",
       "      <td>7 days 21:20:19.861619</td>\n",
       "      <td>8 days 15:53:22.397261</td>\n",
       "    </tr>\n",
       "    <tr>\n",
       "      <th>2</th>\n",
       "      <td>spin</td>\n",
       "      <td>00:00:00</td>\n",
       "      <td>7 days 14:41:21.467306</td>\n",
       "      <td>8 days 15:49:59.566373</td>\n",
       "    </tr>\n",
       "    <tr>\n",
       "      <th>3</th>\n",
       "      <td>limebike</td>\n",
       "      <td>00:00:00</td>\n",
       "      <td>6 days 00:46:46.691905</td>\n",
       "      <td>8 days 15:49:59.889794</td>\n",
       "    </tr>\n",
       "  </tbody>\n",
       "</table>\n",
       "</div>"
      ],
      "text/plain": [
       "   provider             min                    avg                    max\n",
       "0      JUMP        00:00:00 3 days 08:37:57.690847 8 days 15:59:58.377771\n",
       "1    mobike 00:00:06.609335 7 days 21:20:19.861619 8 days 15:53:22.397261\n",
       "2      spin        00:00:00 7 days 14:41:21.467306 8 days 15:49:59.566373\n",
       "3  limebike        00:00:00 6 days 00:46:46.691905 8 days 15:49:59.889794"
      ]
     },
     "execution_count": 7,
     "metadata": {},
     "output_type": "execute_result"
    }
   ],
   "source": [
    "# min,avg,max lifetime of bikes per provider (except ofo, of course)\n",
    "db.query(\n",
    "    \"\"\"\n",
    "    with bike_lifetimes as (\n",
    "        select bike_id, provider, max(created) - min(created) age\n",
    "        from bike_locations\n",
    "        where provider<>'ofo'\n",
    "        group by bike_id, provider\n",
    "    )\n",
    "    select provider, min(age), avg(age), max(age)\n",
    "    from bike_lifetimes\n",
    "    group by provider;\n",
    "    \"\"\").export('df')"
   ]
  },
  {
   "cell_type": "code",
   "execution_count": 8,
   "metadata": {},
   "outputs": [],
   "source": [
    "db.close()\n",
    "db._engine.dispose()"
   ]
  }
 ],
 "metadata": {
  "kernelspec": {
   "display_name": "Python 3",
   "language": "python",
   "name": "python3"
  },
  "language_info": {
   "codemirror_mode": {
    "name": "ipython",
    "version": 3
   },
   "file_extension": ".py",
   "mimetype": "text/x-python",
   "name": "python",
   "nbconvert_exporter": "python",
   "pygments_lexer": "ipython3",
   "version": "3.6.3"
  }
 },
 "nbformat": 4,
 "nbformat_minor": 2
}
